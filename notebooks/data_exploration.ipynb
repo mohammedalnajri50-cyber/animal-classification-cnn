{
 "cells": [
  {
   "cell_type": "markdown",
   "metadata": {},
   "source": [
    "# استكشاف بيانات تصنيف الحيوانات\n",
    "\n",
    "هذا الدفتر مخصص لاستكشاف وتحليل مجموعة بيانات Animals-10"
   ]
  },
  {
   "cell_type": "code",
   "execution_count": null,
   "metadata": {},
   "outputs": [],
   "source": [
    "# استيراد المكتبات المطلوبة\n",
    "import sys\n",
    "sys.path.append('../src')\n",
    "\n",
    "import numpy as np\n",
    "import matplotlib.pyplot as plt\n",
    "import seaborn as sns\n",
    "from data_processing import load_images, visualize_sample_images, analyze_data_distribution, create_data_summary_report\n",
    "\n",
    "# إعداد matplotlib للعرض باللغة العربية\n",
    "plt.rcParams['font.size'] = 12\n",
    "sns.set_style(\"whitegrid\")"
   ]
  },
  {
   "cell_type": "markdown",
   "metadata": {},
   "source": [
    "## 1. تحميل البيانات"
   ]
  },
  {
   "cell_type": "code",
   "execution_count": null,
   "metadata": {},
   "outputs": [],
   "source": [
    "# تحميل البيانات\n",
    "train_generator, test_generator, class_names = load_images(\n",
    "    data_dir=\"../data/animals10\",\n",
    "    img_size=(128, 128),\n",
    "    batch_size=32\n",
    ")\n",
    "\n",
    "print(f\"تم تحميل البيانات بنجاح!\")\n",
    "print(f\"فئات الحيوانات: {class_names}\")"
   ]
  },
  {
   "cell_type": "markdown",
   "metadata": {},
   "source": [
    "## 2. عرض عينة من الصور"
   ]
  },
  {
   "cell_type": "code",
   "execution_count": null,
   "metadata": {},
   "outputs": [],
   "source": [
    "# عرض عينة من صور التدريب\n",
    "visualize_sample_images(train_generator, class_names, sample_size=20)"
   ]
  },
  {
   "cell_type": "markdown",
   "metadata": {},
   "source": [
    "## 3. تحليل توزيع البيانات"
   ]
  },
  {
   "cell_type": "code",
   "execution_count": null,
   "metadata": {},
   "outputs": [],
   "source": [
    "# تحليل توزيع البيانات\n",
    "analyze_data_distribution(train_generator, class_names)"
   ]
  },
  {
   "cell_type": "markdown",
   "metadata": {},
   "source": [
    "## 4. تقرير شامل للبيانات"
   ]
  },
  {
   "cell_type": "code",
   "execution_count": null,
   "metadata": {},
   "outputs": [],
   "source": [
    "# إنشاء تقرير شامل\n",
    "create_data_summary_report(train_generator, test_generator, class_names)"
   ]
  },
  {
   "cell_type": "markdown",
   "metadata": {},
   "source": [
    "## 5. تحليل خصائص الصور"
   ]
  },
  {
   "cell_type": "code",
   "execution_count": null,
   "metadata": {},
   "outputs": [],
   "source": [
    "# الحصول على دفعة من الصور لتحليل الخصائص\n",
    "images, labels = next(train_generator)\n",
    "\n",
    "print(f\"شكل دفعة الصور: {images.shape}\")\n",
    "print(f\"شكل دفعة التسميات: {labels.shape}\")\n",
    "print(f\"نطاق قيم البكسل: [{images.min():.3f}, {images.max():.3f}]\")\n",
    "print(f\"متوسط قيم البكسل: {images.mean():.3f}\")\n",
    "print(f\"الانحراف المعياري: {images.std():.3f}\")"
   ]
  },
  {
   "cell_type": "markdown",
   "metadata": {},
   "source": [
    "## 6. تصور توزيع الألوان"
   ]
  },
  {
   "cell_type": "code",
   "execution_count": null,
   "metadata": {},
   "outputs": [],
   "source": [
    "# تحليل توزيع الألوان في عينة من الصور\n",
    "fig, axes = plt.subplots(2, 3, figsize=(15, 10))\n",
    "\n",
    "# اختيار 6 صور عشوائية\n",
    "for i in range(6):\n",
    "    row = i // 3\n",
    "    col = i % 3\n",
    "    \n",
    "    img = images[i]\n",
    "    \n",
    "    # عرض الصورة\n",
    "    axes[row, col].imshow(img)\n",
    "    \n",
    "    # الحصول على اسم الفئة\n",
    "    class_idx = np.argmax(labels[i])\n",
    "    class_name = class_names[class_idx]\n",
    "    \n",
    "    axes[row, col].set_title(f'{class_name}')\n",
    "    axes[row, col].axis('off')\n",
    "\n",
    "plt.tight_layout()\n",
    "plt.show()"
   ]
  },
  {
   "cell_type": "markdown",
   "metadata": {},
   "source": [
    "## 7. الخلاصة والملاحظات\n",
    "\n",
    "### الملاحظات الرئيسية:\n",
    "1. البيانات متوازنة نسبياً بين الفئات المختلفة\n",
    "2. الصور بجودة جيدة وواضحة\n",
    "3. هناك تنوع جيد في الزوايا والإضاءة\n",
    "4. بعض الفئات قد تحتاج إلى مزيد من التحسينات في المعالجة\n",
    "\n",
    "### التوصيات:\n",
    "1. استخدام تحسينات البيانات (Data Augmentation) لزيادة التنوع\n",
    "2. تطبيق تقنيات التطبيع المناسبة\n",
    "3. مراقبة الأداء على الفئات الأقل تمثيلاً"
   ]
  }
 ],
 "metadata": {
  "kernelspec": {
   "display_name": "Python 3",
   "language": "python",
   "name": "python3"
  },
  "language_info": {
   "codemirror_mode": {
    "name": "ipython",
    "version": 3
   },
   "file_extension": ".py",
   "mimetype": "text/x-python",
   "name": "python",
   "nbconvert_exporter": "python",
   "pygments_lexer": "ipython3",
   "version": "3.12.0"
  }
 },
 "nbformat": 4,
 "nbformat_minor": 4
}